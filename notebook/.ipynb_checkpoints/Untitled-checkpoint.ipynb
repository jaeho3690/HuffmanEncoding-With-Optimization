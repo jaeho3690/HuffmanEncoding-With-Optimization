{
 "cells": [
  {
   "cell_type": "code",
   "execution_count": 3,
   "metadata": {},
   "outputs": [],
   "source": [
    "import os\n",
    "import numpy as np \n",
    "from collections import Counter \n",
    "import heapq\n"
   ]
  },
  {
   "cell_type": "code",
   "execution_count": 2,
   "metadata": {},
   "outputs": [],
   "source": [
    "ex = 'hello this is jaeho and I am a superman from another world'"
   ]
  },
  {
   "cell_type": "code",
   "execution_count": 13,
   "metadata": {},
   "outputs": [
    {
     "ename": "SyntaxError",
     "evalue": "unexpected EOF while parsing (<ipython-input-13-01c14ebb0b2a>, line 26)",
     "output_type": "error",
     "traceback": [
      "\u001b[0;36m  File \u001b[0;32m\"<ipython-input-13-01c14ebb0b2a>\"\u001b[0;36m, line \u001b[0;32m26\u001b[0m\n\u001b[0;31m    \u001b[0m\n\u001b[0m    ^\u001b[0m\n\u001b[0;31mSyntaxError\u001b[0m\u001b[0;31m:\u001b[0m unexpected EOF while parsing\n"
     ]
    }
   ],
   "source": [
    "def read_txt(input):\n",
    "    with open(input)as file:\n",
    "        data= file.read()\n",
    "    return data\n",
    "\n",
    "class Node:\n",
    "    def __init__(self,count,word):\n",
    "        self.count = count\n",
    "        self.word = word\n",
    "        self.left = None\n",
    "        self.right = None\n",
    "    def __cmp__(self,other):\n",
    "        return self.count >= other.count\n",
    "\n",
    "\n",
    "\n",
    "class Huffman:\n",
    "    def __init__(self,originaltxt):\n",
    "        self.original = originaltxt\n",
    "        self.mapping = {}\n",
    "        self.word_frequency= Counter(self.original)\n",
    "        self.min_heap = []\n",
    "\n",
    "        print(self.word_frequency.most_common(1))\n",
    "    def create_minheap(self):\n",
    "        \n",
    "\n"
   ]
  },
  {
   "cell_type": "code",
   "execution_count": 5,
   "metadata": {},
   "outputs": [
    {
     "name": "stdout",
     "output_type": "stream",
     "text": [
      "[(' ', 11)]\n",
      "<class 'list'>\n"
     ]
    }
   ],
   "source": [
    "Huff = Huffman(ex)"
   ]
  },
  {
   "cell_type": "code",
   "execution_count": 6,
   "metadata": {},
   "outputs": [
    {
     "data": {
      "text/plain": [
       "Counter({'h': 4,\n",
       "         'e': 4,\n",
       "         'l': 3,\n",
       "         'o': 5,\n",
       "         ' ': 11,\n",
       "         't': 2,\n",
       "         'i': 2,\n",
       "         's': 3,\n",
       "         'j': 1,\n",
       "         'a': 6,\n",
       "         'n': 3,\n",
       "         'd': 2,\n",
       "         'I': 1,\n",
       "         'm': 3,\n",
       "         'u': 1,\n",
       "         'p': 1,\n",
       "         'r': 4,\n",
       "         'f': 1,\n",
       "         'w': 1})"
      ]
     },
     "execution_count": 6,
     "metadata": {},
     "output_type": "execute_result"
    }
   ],
   "source": [
    "Huff.word_frequency"
   ]
  },
  {
   "cell_type": "code",
   "execution_count": 11,
   "metadata": {},
   "outputs": [
    {
     "name": "stdout",
     "output_type": "stream",
     "text": [
      "h\n",
      "4\n",
      "e\n",
      "4\n",
      "l\n",
      "3\n",
      "o\n",
      "5\n",
      " \n",
      "11\n",
      "t\n",
      "2\n",
      "i\n",
      "2\n",
      "s\n",
      "3\n",
      "j\n",
      "1\n",
      "a\n",
      "6\n",
      "n\n",
      "3\n",
      "d\n",
      "2\n",
      "I\n",
      "1\n",
      "m\n",
      "3\n",
      "u\n",
      "1\n",
      "p\n",
      "1\n",
      "r\n",
      "4\n",
      "f\n",
      "1\n",
      "w\n",
      "1\n"
     ]
    }
   ],
   "source": [
    "for word in Huff.word_frequency:\n",
    "    print(word)\n",
    "    print(Huff.word_frequency[word])"
   ]
  },
  {
   "cell_type": "code",
   "execution_count": null,
   "metadata": {},
   "outputs": [],
   "source": []
  }
 ],
 "metadata": {
  "kernelspec": {
   "display_name": "Python 3",
   "language": "python",
   "name": "python3"
  },
  "language_info": {
   "codemirror_mode": {
    "name": "ipython",
    "version": 3
   },
   "file_extension": ".py",
   "mimetype": "text/x-python",
   "name": "python",
   "nbconvert_exporter": "python",
   "pygments_lexer": "ipython3",
   "version": "3.6.10"
  }
 },
 "nbformat": 4,
 "nbformat_minor": 2
}
